{
 "cells": [
  {
   "cell_type": "markdown",
   "id": "1bbd9c41",
   "metadata": {},
   "source": [
    "# Steve's Advent of Code work"
   ]
  },
  {
   "cell_type": "markdown",
   "id": "c2515a8a",
   "metadata": {},
   "source": [
    "## imports"
   ]
  },
  {
   "cell_type": "code",
   "execution_count": 1,
   "id": "939e3347",
   "metadata": {
    "ExecuteTime": {
     "end_time": "2021-12-03T20:15:08.556125Z",
     "start_time": "2021-12-03T20:15:08.170811Z"
    }
   },
   "outputs": [],
   "source": [
    "import sys\n",
    "import pathlib\n",
    "# import math\n",
    "# import pandas as pd\n",
    "from itertools import combinations\n",
    "import numpy as np\n",
    "import re"
   ]
  },
  {
   "cell_type": "markdown",
   "id": "f878d4fe",
   "metadata": {},
   "source": [
    "## Input env setup"
   ]
  },
  {
   "cell_type": "code",
   "execution_count": 2,
   "id": "f75209c7",
   "metadata": {
    "ExecuteTime": {
     "end_time": "2021-12-03T20:15:08.567092Z",
     "start_time": "2021-12-03T20:15:08.559388Z"
    }
   },
   "outputs": [],
   "source": [
    "base = pathlib.Path('/Users/steve/Documents/AOC2021/Stiv_Code')\n",
    "raw = base / 'txt'"
   ]
  },
  {
   "cell_type": "code",
   "execution_count": 3,
   "id": "ba941bb6",
   "metadata": {
    "ExecuteTime": {
     "end_time": "2021-12-03T20:15:08.582887Z",
     "start_time": "2021-12-03T20:15:08.574372Z"
    }
   },
   "outputs": [],
   "source": [
    "import os\n",
    "cwd = os.getcwd()"
   ]
  },
  {
   "cell_type": "code",
   "execution_count": 4,
   "id": "6cab1a51",
   "metadata": {
    "ExecuteTime": {
     "end_time": "2021-12-03T20:15:08.606181Z",
     "start_time": "2021-12-03T20:15:08.585557Z"
    }
   },
   "outputs": [
    {
     "data": {
      "text/plain": [
       "'/Users/steve/Documents/AOC2021/Stiv_Code'"
      ]
     },
     "execution_count": 4,
     "metadata": {},
     "output_type": "execute_result"
    }
   ],
   "source": [
    "cwd"
   ]
  },
  {
   "cell_type": "markdown",
   "id": "53a628a6",
   "metadata": {},
   "source": [
    "# Question 1\n",
    "count the number of times a depth measurement increases from the previous measurement"
   ]
  },
  {
   "cell_type": "code",
   "execution_count": 5,
   "id": "85080863",
   "metadata": {
    "ExecuteTime": {
     "end_time": "2021-12-03T20:15:08.620777Z",
     "start_time": "2021-12-03T20:15:08.614707Z"
    }
   },
   "outputs": [],
   "source": [
    "# file read\n",
    "fname = \"q1.txt\"\n",
    "file = raw / fname\n",
    "f = open(file, \"r\")"
   ]
  },
  {
   "cell_type": "code",
   "execution_count": 6,
   "id": "77537d89",
   "metadata": {
    "ExecuteTime": {
     "end_time": "2021-12-03T20:15:08.635606Z",
     "start_time": "2021-12-03T20:15:08.628094Z"
    }
   },
   "outputs": [],
   "source": [
    "qlist = [int(line) for line in f.readlines()]"
   ]
  },
  {
   "cell_type": "code",
   "execution_count": 7,
   "id": "f9513963",
   "metadata": {
    "ExecuteTime": {
     "end_time": "2021-12-03T20:15:08.651978Z",
     "start_time": "2021-12-03T20:15:08.647835Z"
    }
   },
   "outputs": [],
   "source": [
    "j, x = qlist[0], 0"
   ]
  },
  {
   "cell_type": "code",
   "execution_count": 8,
   "id": "df23f9f5",
   "metadata": {
    "ExecuteTime": {
     "end_time": "2021-12-03T20:15:08.668474Z",
     "start_time": "2021-12-03T20:15:08.659913Z"
    }
   },
   "outputs": [
    {
     "name": "stdout",
     "output_type": "stream",
     "text": [
      "1624\n"
     ]
    }
   ],
   "source": [
    "# unoptimised solution\n",
    "for i in qlist:\n",
    "    if i > j: x+=1\n",
    "    j=i\n",
    "        \n",
    "print(x)"
   ]
  },
  {
   "cell_type": "markdown",
   "id": "6bcd39b3",
   "metadata": {},
   "source": [
    "## Part 2\n",
    "Your goal now is to count the number of times the sum of measurements in this sliding window increases from the previous sum. So, compare A with B, then compare B with C, then C with D, and so on. Stop when there aren't enough measurements left to create a new three-measurement sum."
   ]
  },
  {
   "cell_type": "code",
   "execution_count": 9,
   "id": "2aa98250",
   "metadata": {
    "ExecuteTime": {
     "end_time": "2021-12-03T20:15:08.687824Z",
     "start_time": "2021-12-03T20:15:08.682181Z"
    }
   },
   "outputs": [],
   "source": [
    "# file read\n",
    "fname = \"q1-2.txt\"\n",
    "file = raw / fname\n",
    "f = open(file, \"r\")"
   ]
  },
  {
   "cell_type": "code",
   "execution_count": 10,
   "id": "15c259de",
   "metadata": {
    "ExecuteTime": {
     "end_time": "2021-12-03T20:15:08.714913Z",
     "start_time": "2021-12-03T20:15:08.697710Z"
    }
   },
   "outputs": [],
   "source": [
    "qlist1 = [int(number.strip()) for number in f.readlines()]"
   ]
  },
  {
   "cell_type": "code",
   "execution_count": 11,
   "id": "c34568f8",
   "metadata": {
    "ExecuteTime": {
     "end_time": "2021-12-03T20:15:08.732301Z",
     "start_time": "2021-12-03T20:15:08.718561Z"
    }
   },
   "outputs": [
    {
     "data": {
      "text/plain": [
       "1653"
      ]
     },
     "execution_count": 11,
     "metadata": {},
     "output_type": "execute_result"
    }
   ],
   "source": [
    "# prettier solution\n",
    "sum([1 for i in range(3, len(qlist1)) if qlist1[i] > qlist1[i-3]])"
   ]
  },
  {
   "cell_type": "markdown",
   "id": "a1930934",
   "metadata": {},
   "source": [
    "# Question 2"
   ]
  },
  {
   "cell_type": "markdown",
   "id": "47ae08c3",
   "metadata": {},
   "source": [
    "Calculate the horizontal position and depth you would have after following the planned course. What do you get if you multiply your final horizontal position by your final depth?"
   ]
  },
  {
   "cell_type": "code",
   "execution_count": 12,
   "id": "17ef2063",
   "metadata": {
    "ExecuteTime": {
     "end_time": "2021-12-03T20:15:08.747723Z",
     "start_time": "2021-12-03T20:15:08.735570Z"
    }
   },
   "outputs": [],
   "source": [
    "# file read\n",
    "fname = \"q2.txt\"\n",
    "file = raw / fname\n",
    "f = open(file, \"r\")"
   ]
  },
  {
   "cell_type": "code",
   "execution_count": 13,
   "id": "b709c0df",
   "metadata": {
    "ExecuteTime": {
     "end_time": "2021-12-03T20:15:08.768633Z",
     "start_time": "2021-12-03T20:15:08.751339Z"
    }
   },
   "outputs": [],
   "source": [
    "input_lines = [line.strip().split(' ') for line in f.readlines()]\n"
   ]
  },
  {
   "cell_type": "code",
   "execution_count": 14,
   "id": "87861e6d",
   "metadata": {
    "ExecuteTime": {
     "end_time": "2021-12-03T20:15:08.788069Z",
     "start_time": "2021-12-03T20:15:08.780617Z"
    }
   },
   "outputs": [
    {
     "data": {
      "text/plain": [
       "['forward', '4']"
      ]
     },
     "execution_count": 14,
     "metadata": {},
     "output_type": "execute_result"
    }
   ],
   "source": [
    "input_lines[0]"
   ]
  },
  {
   "cell_type": "code",
   "execution_count": 15,
   "id": "afd52465",
   "metadata": {
    "ExecuteTime": {
     "end_time": "2021-12-03T20:15:08.815694Z",
     "start_time": "2021-12-03T20:15:08.799248Z"
    }
   },
   "outputs": [],
   "source": [
    "forward = 0\n",
    "depth = 0\n",
    "for command in input_lines:    \n",
    "    if command[0] == \"forward\":\n",
    "      forward += int(command[1])\n",
    "    \n",
    "    if command[0] == \"down\":\n",
    "      depth += int(command[1])\n",
    "    \n",
    "    if command[0] == \"up\":\n",
    "      depth -= int(command[1])"
   ]
  },
  {
   "cell_type": "code",
   "execution_count": 16,
   "id": "1b6a7153",
   "metadata": {
    "ExecuteTime": {
     "end_time": "2021-12-03T20:15:08.837226Z",
     "start_time": "2021-12-03T20:15:08.819561Z"
    }
   },
   "outputs": [
    {
     "name": "stdout",
     "output_type": "stream",
     "text": [
      "2065 917 1893605\n"
     ]
    }
   ],
   "source": [
    "print(forward, depth, forward * depth)"
   ]
  },
  {
   "cell_type": "markdown",
   "id": "9069ad3e",
   "metadata": {},
   "source": [
    "## Part 2\n",
    "Using this new interpretation of the commands, calculate the horizontal position and depth you would have after following the planned course. What do you get if you multiply your final horizontal position by your final depth?\n"
   ]
  },
  {
   "cell_type": "code",
   "execution_count": 17,
   "id": "9a16e6d9",
   "metadata": {
    "ExecuteTime": {
     "end_time": "2021-12-03T20:15:08.866319Z",
     "start_time": "2021-12-03T20:15:08.848061Z"
    }
   },
   "outputs": [],
   "source": [
    "forward = 0\n",
    "depth = 0 \n",
    "aim = 0\n",
    "\n",
    "for command in input_lines:    \n",
    "    if command[0] == \"forward\":\n",
    "      forward += int(command[1])\n",
    "      depth += aim * int(command[1])\n",
    "\n",
    "    \n",
    "    if command[0] == \"down\":\n",
    "      aim += int(command[1])\n",
    "    \n",
    "    if command[0] == \"up\":\n",
    "      aim -= int(command[1])"
   ]
  },
  {
   "cell_type": "code",
   "execution_count": 18,
   "id": "3d112efb",
   "metadata": {
    "ExecuteTime": {
     "end_time": "2021-12-03T20:15:08.885626Z",
     "start_time": "2021-12-03T20:15:08.870332Z"
    }
   },
   "outputs": [
    {
     "name": "stdout",
     "output_type": "stream",
     "text": [
      "2065 1026990 917 2120734350\n"
     ]
    }
   ],
   "source": [
    "print(forward, depth, aim, forward * depth)"
   ]
  },
  {
   "cell_type": "code",
   "execution_count": null,
   "id": "1d00d851",
   "metadata": {},
   "outputs": [],
   "source": []
  }
 ],
 "metadata": {
  "kernelspec": {
   "display_name": "Python 3 (ipykernel)",
   "language": "python",
   "name": "python3"
  },
  "language_info": {
   "codemirror_mode": {
    "name": "ipython",
    "version": 3
   },
   "file_extension": ".py",
   "mimetype": "text/x-python",
   "name": "python",
   "nbconvert_exporter": "python",
   "pygments_lexer": "ipython3",
   "version": "3.9.5"
  },
  "varInspector": {
   "cols": {
    "lenName": 16,
    "lenType": 16,
    "lenVar": 40
   },
   "kernels_config": {
    "python": {
     "delete_cmd_postfix": "",
     "delete_cmd_prefix": "del ",
     "library": "var_list.py",
     "varRefreshCmd": "print(var_dic_list())"
    },
    "r": {
     "delete_cmd_postfix": ") ",
     "delete_cmd_prefix": "rm(",
     "library": "var_list.r",
     "varRefreshCmd": "cat(var_dic_list()) "
    }
   },
   "types_to_exclude": [
    "module",
    "function",
    "builtin_function_or_method",
    "instance",
    "_Feature"
   ],
   "window_display": false
  }
 },
 "nbformat": 4,
 "nbformat_minor": 5
}
