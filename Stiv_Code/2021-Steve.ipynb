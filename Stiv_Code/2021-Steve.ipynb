{
 "cells": [
  {
   "cell_type": "markdown",
   "id": "5c3165f1",
   "metadata": {},
   "source": [
    "# Steve's Advent of Code work"
   ]
  },
  {
   "cell_type": "markdown",
   "id": "836bde7e",
   "metadata": {},
   "source": [
    "## imports"
   ]
  },
  {
   "cell_type": "code",
   "execution_count": 1,
   "id": "5bd0d664",
   "metadata": {
    "ExecuteTime": {
     "end_time": "2021-12-03T19:30:36.344398Z",
     "start_time": "2021-12-03T19:30:35.540846Z"
    }
   },
   "outputs": [],
   "source": [
    "import sys\n",
    "import pathlib\n",
    "# import math\n",
    "# import pandas as pd\n",
    "from itertools import combinations\n",
    "import numpy as np\n",
    "import re"
   ]
  },
  {
   "cell_type": "markdown",
   "id": "46677b6f",
   "metadata": {},
   "source": [
    "## Input env setup"
   ]
  },
  {
   "cell_type": "code",
   "execution_count": 2,
   "id": "8aa57cf5",
   "metadata": {
    "ExecuteTime": {
     "end_time": "2021-12-03T19:30:36.355463Z",
     "start_time": "2021-12-03T19:30:36.346957Z"
    }
   },
   "outputs": [],
   "source": [
    "base = pathlib.Path('/Users/steve/Documents/AOC2021/Stiv_Code')\n",
    "raw = base / 'txt'"
   ]
  },
  {
   "cell_type": "code",
   "execution_count": 3,
   "id": "f29833d7",
   "metadata": {
    "ExecuteTime": {
     "end_time": "2021-12-03T19:30:36.369429Z",
     "start_time": "2021-12-03T19:30:36.359861Z"
    }
   },
   "outputs": [],
   "source": [
    "import os\n",
    "cwd = os.getcwd()"
   ]
  },
  {
   "cell_type": "code",
   "execution_count": 4,
   "id": "cccda6f6",
   "metadata": {
    "ExecuteTime": {
     "end_time": "2021-12-03T19:30:36.396238Z",
     "start_time": "2021-12-03T19:30:36.377444Z"
    }
   },
   "outputs": [
    {
     "data": {
      "text/plain": [
       "'/Users/steve/Documents/AOC2021/Stiv_Code'"
      ]
     },
     "execution_count": 4,
     "metadata": {},
     "output_type": "execute_result"
    }
   ],
   "source": [
    "cwd"
   ]
  },
  {
   "cell_type": "markdown",
   "id": "a2dab53f",
   "metadata": {},
   "source": [
    "# Question 1\n",
    "count the number of times a depth measurement increases from the previous measurement"
   ]
  },
  {
   "cell_type": "code",
   "execution_count": 5,
   "id": "d776b8df",
   "metadata": {
    "ExecuteTime": {
     "end_time": "2021-12-03T19:30:36.411343Z",
     "start_time": "2021-12-03T19:30:36.404879Z"
    }
   },
   "outputs": [],
   "source": [
    "# file read\n",
    "fname = \"q1.txt\"\n",
    "file = raw / fname\n",
    "f = open(file, \"r\")"
   ]
  },
  {
   "cell_type": "code",
   "execution_count": 6,
   "id": "24fc2c4f",
   "metadata": {
    "ExecuteTime": {
     "end_time": "2021-12-03T19:30:36.433142Z",
     "start_time": "2021-12-03T19:30:36.418988Z"
    }
   },
   "outputs": [],
   "source": [
    "qlist = [int(line) for line in f.readlines()]"
   ]
  },
  {
   "cell_type": "code",
   "execution_count": 7,
   "id": "1842890a",
   "metadata": {
    "ExecuteTime": {
     "end_time": "2021-12-03T19:30:36.447472Z",
     "start_time": "2021-12-03T19:30:36.441119Z"
    }
   },
   "outputs": [],
   "source": [
    "j, x = qlist[0], 0"
   ]
  },
  {
   "cell_type": "code",
   "execution_count": 8,
   "id": "27ced1a7",
   "metadata": {
    "ExecuteTime": {
     "end_time": "2021-12-03T19:30:36.472118Z",
     "start_time": "2021-12-03T19:30:36.457211Z"
    }
   },
   "outputs": [
    {
     "name": "stdout",
     "output_type": "stream",
     "text": [
      "1624\n"
     ]
    }
   ],
   "source": [
    "# unoptimised solution\n",
    "for i in qlist:\n",
    "    if i > j: x+=1\n",
    "    j=i\n",
    "        \n",
    "print(x)"
   ]
  },
  {
   "cell_type": "markdown",
   "id": "a76e515f",
   "metadata": {},
   "source": [
    "## Part 2\n",
    "Your goal now is to count the number of times the sum of measurements in this sliding window increases from the previous sum. So, compare A with B, then compare B with C, then C with D, and so on. Stop when there aren't enough measurements left to create a new three-measurement sum."
   ]
  },
  {
   "cell_type": "code",
   "execution_count": 9,
   "id": "4a4f6615",
   "metadata": {
    "ExecuteTime": {
     "end_time": "2021-12-03T19:30:36.492409Z",
     "start_time": "2021-12-03T19:30:36.477557Z"
    }
   },
   "outputs": [],
   "source": [
    "# file read\n",
    "fname = \"q1-2.txt\"\n",
    "file = raw / fname\n",
    "f = open(file, \"r\")"
   ]
  },
  {
   "cell_type": "code",
   "execution_count": 10,
   "id": "888f3f5c",
   "metadata": {
    "ExecuteTime": {
     "end_time": "2021-12-03T19:30:36.513040Z",
     "start_time": "2021-12-03T19:30:36.495019Z"
    }
   },
   "outputs": [],
   "source": [
    "qlist1 = [int(number.strip()) for number in f.readlines()]"
   ]
  },
  {
   "cell_type": "code",
   "execution_count": 11,
   "id": "e3d396ef",
   "metadata": {
    "ExecuteTime": {
     "end_time": "2021-12-03T19:30:36.541302Z",
     "start_time": "2021-12-03T19:30:36.523865Z"
    }
   },
   "outputs": [
    {
     "data": {
      "text/plain": [
       "1653"
      ]
     },
     "execution_count": 11,
     "metadata": {},
     "output_type": "execute_result"
    }
   ],
   "source": [
    "# prettier solution\n",
    "sum([1 for i in range(3, len(qlist1)) if qlist1[i] > qlist1[i-3]])"
   ]
  },
  {
   "cell_type": "code",
   "execution_count": null,
   "id": "50e98105",
   "metadata": {},
   "outputs": [],
   "source": []
  }
 ],
 "metadata": {
  "kernelspec": {
   "display_name": "Python 3 (ipykernel)",
   "language": "python",
   "name": "python3"
  },
  "language_info": {
   "codemirror_mode": {
    "name": "ipython",
    "version": 3
   },
   "file_extension": ".py",
   "mimetype": "text/x-python",
   "name": "python",
   "nbconvert_exporter": "python",
   "pygments_lexer": "ipython3",
   "version": "3.9.5"
  },
  "varInspector": {
   "cols": {
    "lenName": 16,
    "lenType": 16,
    "lenVar": 40
   },
   "kernels_config": {
    "python": {
     "delete_cmd_postfix": "",
     "delete_cmd_prefix": "del ",
     "library": "var_list.py",
     "varRefreshCmd": "print(var_dic_list())"
    },
    "r": {
     "delete_cmd_postfix": ") ",
     "delete_cmd_prefix": "rm(",
     "library": "var_list.r",
     "varRefreshCmd": "cat(var_dic_list()) "
    }
   },
   "types_to_exclude": [
    "module",
    "function",
    "builtin_function_or_method",
    "instance",
    "_Feature"
   ],
   "window_display": false
  }
 },
 "nbformat": 4,
 "nbformat_minor": 5
}
